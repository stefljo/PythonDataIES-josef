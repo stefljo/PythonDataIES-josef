{
 "cells": [
  {
   "cell_type": "markdown",
   "metadata": {},
   "source": [
    "**credits:** Lecture based on Jan Šíla's lecture that was based on my lecture \n",
    "\n",
    "## Why learn programming\n",
    "\n",
    "* To solve problems:\n",
    "    * manipulate data\n",
    "    * solve algorithmic tasks\n",
    "    * automate mundane tasks\n",
    "\n",
    "* To create:\n",
    "    * science\n",
    "    * tools\n",
    "    * software\n",
    "    * models\n",
    "    * art\n",
    "    * business processes\n",
    "    * fun stuff\n",
    "\n",
    "* To think:\n",
    "    * break complex problems into managable pieces\n",
    "    * think algorithmically\n",
    "\n",
    "* To make living :) \n",
    "\n",
    "\n",
    "## Course aims and motivation\n",
    "\n",
    "* To teach thinking like a programmer\n",
    "    * Basic concepts\n",
    "    * Google, StackOverflow\n",
    "    * Ask correct questions\n",
    "    * Complex programs are lego tiles combined in an efficient manner\n",
    "    * Build on the shoulders of giants\n",
    "\n",
    "* To get you above *I can do anything* threshold, or (more probably) close to it\n",
    "    * Steep part of the learning curve\n",
    "    * Requires substantial individual investments\n",
    "\n",
    "* To collaborate\n",
    "    * \"Code is more often read than written\" Guido van Rossum\n",
    "    * version control (check issues, pull requests etc.)\n",
    "    * documentation and docstring\n",
    "    * code structuring\n",
    "    * leverage open-source\n",
    "\n",
    "* To take of advantage of massive amounts of data flowing around. It is a good idea to know:\n",
    "    * how to get it\n",
    "    * how to store It\n",
    "    * how to process it\n",
    "    * how to analyze it\n",
    "    * how to share it\n",
    "\n",
    "# Intro\n",
    "*Q: What is a data pipeline??*"
   ]
  },
  {
   "cell_type": "markdown",
   "metadata": {},
   "source": [
    "##  Course Outline\n",
    "\n",
    "* Programming (also in Python) is extremely broad.\n",
    "* To keep you in focus, the course will concentrate on **data pipelines** (no worries, you will still have A LOT to learn ... )\n",
    "\n",
    "The main topics in the course can be roughly divided into the following:\n",
    "\n",
    "0. **Syntax** - *the Python fundamentals and programming essentials*\n",
    "\n",
    "1. **Data collection** - *The world is full of data. How to get some? Most common data formats, storages and languages (JSON/XML/CSV/SQL).* \n",
    "\n",
    "2. **Data processing** - *Working with the data in Python/Pandas ecosystem. Especially Pandas, Matplotlib and Numpy will be covered. Appropriate data analysis*\n",
    "\n",
    "3. **Data persistance** - how to store the data?\n",
    "\n",
    "4. **Project management** - how to package programs? How to distribute it? \n",
    "\n",
    "5. **Project publication** - offering programs to others using API - Flask\n",
    "\n",
    "3. **Data ** - *Work on your project.* The last block would be helping to get a hands-on experience and to apply the knowledge gained throughout the course.\n",
    "\n",
    "\n",
    "Warning: The sooner you start writing, the better!!\n",
    "\n",
    "## The Final Project - End-to-end data analytics/data science project/pipeline\n",
    "\n",
    "**Description:**\n",
    "* Students in teams by 2\n",
    "* Business oriented. The application is everything\n",
    "    - You need to plan - what is a goal of the app?\n",
    "    - How would users use the data that you offer? \n",
    "* The task is to \n",
    "    1. Download some data - from API etc, web-scraping etc.\n",
    "    2. Process data - clean, transform, aggregate etc.\n",
    "        - Note that appropriate processing requires adequate analysis! \n",
    "        - Visualization would most likely be useful... Why not use Jupyter Notebooks? \n",
    "    3. Persist data - DB etc.,\n",
    "    4. Appropriate package of your program - at least `requirements.txt` + `argparse`?\n",
    "    5. Offer outputs of your program as an API (Flask? )\n",
    "* The selection of the data is entirely up to the students. \n",
    "\n",
    "**Deadlines:**\n",
    "\n",
    "* Follow the GitHub repo\n",
    "\n",
    "**Consultations:** \n",
    "\n",
    "* Of course, you may contact us any time. We will do our best, to help to help you."
   ]
  },
  {
   "cell_type": "markdown",
   "metadata": {},
   "source": [
    "# Lecture 2: Basics of Python\n",
    "\n",
    "\n",
    "\n",
    "* Guido van Rossum\n",
    "\n",
    "In December 1989, Van Rossum had been looking for a \"'hobby' programming project that would keep [him] occupied during the week around Christmas\" as his office was closed when he decided to write an interpreter for a \"new scripting language [he] had been thinking about lately: a descendant of ABC that would appeal to Unix/C hackers\". He attributes choosing the name \"Python\" to \"being in a slightly irreverent mood (and a big fan of Monty Python's Flying Circus)\".[21]\n",
    "\n",
    "* Programming gives you freedom to create -> develop\n",
    "\n",
    "* Python is an amazing general purpose language, ranked among TOP 3 languages.\n",
    "\n",
    "* Rather high end language - high level of abstraction, but lower control over stuff (memory handling etc. - but do you need it?)   \n",
    "\n",
    "## When to use Python:\n",
    "   \n",
    "* Particularly great for web development (Flask, Django)\n",
    "\n",
    "* Data Analysis (Pandas),  Scientific computing (Scipy), Business Intelligence (Plotly, Bokeh), ETL processes (Airflow)\n",
    "\n",
    "* Data science / Machine Learning / AI models (keras, tensorflow, torch) / NLP \n",
    "\n",
    "* Also covers scientific computing + data science (SciPy) + machine learning (Keras, tensorflow) + business intelligence (Plotly, etc.)\n",
    "\n",
    "* Cloud computing - AWS lambda functions and many more.\n",
    "\n",
    "* Interface with C, C++ - speed up your code with some low end arithmetic\n",
    "\n",
    "* Multiplatform (vs C#), interactive (like R, oppose to C++)\n",
    "\n",
    "* Source code [publicly available](https://github.com/python/cpython/blob/2.7/Python/bltinmodule.c#L1580)\n",
    "\n",
    "\n",
    "\n",
    "## Python as a language\n",
    "* General purpose\n",
    "\n",
    "* Open-source\n",
    "\n",
    "* Interpreted (not-compiled)\n",
    "    * Type insecure\n",
    "\n",
    "    * Slow\n",
    "\n",
    "* Object-oriented\n",
    "\n",
    "* Easily extendable\n",
    "\n",
    "* Convinient for beginners, yet very powerful\n",
    "\n",
    "* Huge community!"
   ]
  },
  {
   "cell_type": "markdown",
   "metadata": {},
   "source": [
    "## Resources\n",
    "\n",
    "* Quite amazing [Wiki](https://wiki.python.org/moin/BeginnersGuide)\n",
    "\n",
    "* Practically any problem you will be facing now is on [StackOverflow](https://stackoverflow.com/tags/python) \n",
    "\n",
    "* PEP 8 Style guide for python [HERE](https://www.python.org/dev/peps/pep-0008/)"
   ]
  },
  {
   "cell_type": "markdown",
   "metadata": {},
   "source": [
    "## General principles\n",
    "\n",
    "* Code is more often read than written (GvR) - aim for easy-to-read and well-documented code\n",
    "\n",
    "* EAFP: “it’s easier to ask for forgiveness than permission”\n",
    "  vs LBYL: “look before you leap\" -> try stuff, handle possible errors\n",
    "  \n",
    "* Syntax is a part of code  - indentation matters!\n",
    "\n",
    "* Do not worry, you will get those under skin as you code\n",
    "\n",
    "* The only way to learn coding is coding. Ideally often."
   ]
  },
  {
   "cell_type": "code",
   "execution_count": 5,
   "metadata": {},
   "outputs": [
    {
     "name": "stdout",
     "output_type": "stream",
     "text": [
      "The Zen of Python, by Tim Peters\n",
      "\n",
      "Beautiful is better than ugly.\n",
      "Explicit is better than implicit.\n",
      "Simple is better than complex.\n",
      "Complex is better than complicated.\n",
      "Flat is better than nested.\n",
      "Sparse is better than dense.\n",
      "Readability counts.\n",
      "Special cases aren't special enough to break the rules.\n",
      "Although practicality beats purity.\n",
      "Errors should never pass silently.\n",
      "Unless explicitly silenced.\n",
      "In the face of ambiguity, refuse the temptation to guess.\n",
      "There should be one-- and preferably only one --obvious way to do it.\n",
      "Although that way may not be obvious at first unless you're Dutch.\n",
      "Now is better than never.\n",
      "Although never is often better than *right* now.\n",
      "If the implementation is hard to explain, it's a bad idea.\n",
      "If the implementation is easy to explain, it may be a good idea.\n",
      "Namespaces are one honking great idea -- let's do more of those!\n"
     ]
    }
   ],
   "source": [
    "import this"
   ]
  },
  {
   "cell_type": "markdown",
   "metadata": {},
   "source": [
    "## How to launch Python code\n",
    "\n",
    "*Q: How do you launch code?*\n",
    "\n",
    "*Q: What do we mean by `code execution`?*\n",
    "\n",
    "* All you need is python executable\n",
    "* Command line interface\n",
    "* IPython/Jupyter\n",
    "* Launched by external trigger - AWS Lambda, API etc.\n",
    "\n",
    "Either write python code directly into console or launch `*.py` files"
   ]
  },
  {
   "cell_type": "code",
   "execution_count": 1,
   "metadata": {},
   "outputs": [
    {
     "name": "stdout",
     "output_type": "stream",
     "text": [
      "HELLO WORLD\n"
     ]
    }
   ],
   "source": [
    "print(\"HELLO WORLD\")"
   ]
  },
  {
   "cell_type": "markdown",
   "metadata": {},
   "source": [
    "### Standard output - `print`"
   ]
  },
  {
   "cell_type": "code",
   "execution_count": 2,
   "metadata": {},
   "outputs": [
    {
     "name": "stdout",
     "output_type": "stream",
     "text": [
      "Hello, World!\n"
     ]
    }
   ],
   "source": [
    "# First commands executed should always be the Hello world program!\n",
    "\n",
    "#simplest \"program\" - tell python to print some strings to the console (standard output)\n",
    "print(\"Hello, World!\")"
   ]
  },
  {
   "cell_type": "code",
   "execution_count": 4,
   "metadata": {},
   "outputs": [
    {
     "data": {
      "text/plain": [
       "'2'"
      ]
     },
     "execution_count": 4,
     "metadata": {},
     "output_type": "execute_result"
    }
   ],
   "source": [
    "'2'"
   ]
  },
  {
   "cell_type": "markdown",
   "metadata": {},
   "source": [
    "# Objects, attributes, methods and functions\n",
    "\n",
    "`Object` - Everything is an object"
   ]
  },
  {
   "cell_type": "code",
   "execution_count": 2,
   "metadata": {},
   "outputs": [],
   "source": [
    "o1 = 'Hello world!'"
   ]
  },
  {
   "cell_type": "code",
   "execution_count": 6,
   "metadata": {},
   "outputs": [
    {
     "data": {
      "text/plain": [
       "'Hello world!'"
      ]
     },
     "execution_count": 6,
     "metadata": {},
     "output_type": "execute_result"
    }
   ],
   "source": [
    "o1"
   ]
  },
  {
   "cell_type": "code",
   "execution_count": 12,
   "metadata": {},
   "outputs": [
    {
     "data": {
      "text/plain": [
       "'Hello world!Hello world!'"
      ]
     },
     "execution_count": 12,
     "metadata": {},
     "output_type": "execute_result"
    }
   ],
   "source": [
    "o1 + o1"
   ]
  },
  {
   "cell_type": "code",
   "execution_count": 15,
   "metadata": {},
   "outputs": [
    {
     "data": {
      "text/plain": [
       "type"
      ]
     },
     "execution_count": 15,
     "metadata": {},
     "output_type": "execute_result"
    }
   ],
   "source": [
    "type"
   ]
  },
  {
   "cell_type": "code",
   "execution_count": 17,
   "metadata": {},
   "outputs": [
    {
     "data": {
      "text/plain": [
       "builtin_function_or_method"
      ]
     },
     "execution_count": 17,
     "metadata": {},
     "output_type": "execute_result"
    }
   ],
   "source": [
    "type(print)"
   ]
  },
  {
   "cell_type": "code",
   "execution_count": 14,
   "metadata": {},
   "outputs": [
    {
     "data": {
      "text/plain": [
       "6"
      ]
     },
     "execution_count": 14,
     "metadata": {},
     "output_type": "execute_result"
    }
   ],
   "source": [
    "o2 + o2"
   ]
  },
  {
   "cell_type": "code",
   "execution_count": 7,
   "metadata": {},
   "outputs": [
    {
     "data": {
      "text/plain": [
       "str"
      ]
     },
     "execution_count": 7,
     "metadata": {},
     "output_type": "execute_result"
    }
   ],
   "source": [
    "\n",
    "type(o1)"
   ]
  },
  {
   "cell_type": "code",
   "execution_count": 8,
   "metadata": {},
   "outputs": [],
   "source": [
    "o2 = 3\n"
   ]
  },
  {
   "cell_type": "code",
   "execution_count": 10,
   "metadata": {},
   "outputs": [
    {
     "data": {
      "text/plain": [
       "int"
      ]
     },
     "execution_count": 10,
     "metadata": {},
     "output_type": "execute_result"
    }
   ],
   "source": [
    "type(o2)"
   ]
  },
  {
   "cell_type": "code",
   "execution_count": null,
   "metadata": {},
   "outputs": [],
   "source": [
    "\n",
    "print(type(o2))"
   ]
  },
  {
   "cell_type": "code",
   "execution_count": 18,
   "metadata": {},
   "outputs": [
    {
     "name": "stdout",
     "output_type": "stream",
     "text": [
      "<class 'str'>\n",
      "<class 'int'>\n",
      "<class 'list'>\n",
      "<class 'dict'>\n",
      "<class 'datetime.datetime'>\n",
      "<class 'int'>\n"
     ]
    }
   ],
   "source": [
    "from datetime import datetime\n",
    "o1 = 'Hello world!'\n",
    "print(type(o1))\n",
    "o2 = 3\n",
    "print(type(o2))\n",
    "o3 = [1,2,3,4,5]\n",
    "print(type(o3))\n",
    "o4 = {'a':0,'b':1}\n",
    "print(type(o4))\n",
    "o5 = datetime(2021,1,23,18,30)\n",
    "print(type(o5))\n",
    "o6 = o3[1]\n",
    "print(type(o6))"
   ]
  },
  {
   "cell_type": "markdown",
   "metadata": {},
   "source": [
    "`Attribute` - a variable ( ==  another object) assigned to the object"
   ]
  },
  {
   "cell_type": "code",
   "execution_count": 26,
   "metadata": {},
   "outputs": [
    {
     "data": {
      "text/plain": [
       "datetime.datetime"
      ]
     },
     "execution_count": 26,
     "metadata": {},
     "output_type": "execute_result"
    }
   ],
   "source": [
    "type(o5)"
   ]
  },
  {
   "cell_type": "code",
   "execution_count": null,
   "metadata": {},
   "outputs": [],
   "source": []
  },
  {
   "cell_type": "markdown",
   "metadata": {},
   "source": [
    "`Method` - function that the object applies to itself"
   ]
  },
  {
   "cell_type": "code",
   "execution_count": 3,
   "metadata": {},
   "outputs": [
    {
     "data": {
      "text/plain": [
       "'Hello world!'"
      ]
     },
     "execution_count": 3,
     "metadata": {},
     "output_type": "execute_result"
    }
   ],
   "source": [
    "o1"
   ]
  },
  {
   "cell_type": "code",
   "execution_count": 4,
   "metadata": {},
   "outputs": [
    {
     "data": {
      "text/plain": [
       "'Fuck off world!'"
      ]
     },
     "execution_count": 4,
     "metadata": {},
     "output_type": "execute_result"
    }
   ],
   "source": [
    "o1.replace('Hello','Fuck off')"
   ]
  },
  {
   "cell_type": "code",
   "execution_count": 7,
   "metadata": {},
   "outputs": [
    {
     "ename": "AttributeError",
     "evalue": "'list' object has no attribute 'upper'",
     "output_type": "error",
     "traceback": [
      "\u001b[1;31m---------------------------------------------------------------------------\u001b[0m",
      "\u001b[1;31mAttributeError\u001b[0m                            Traceback (most recent call last)",
      "\u001b[1;32mc:\\Users\\Martin Hronec\\Projects\\phd\\teaching\\PythonDataIES\\01_PythonBasics\\01_IntroToPython.ipynb Cell 30\u001b[0m line \u001b[0;36m1\n\u001b[1;32m----> <a href='vscode-notebook-cell:/c%3A/Users/Martin%20Hronec/Projects/phd/teaching/PythonDataIES/01_PythonBasics/01_IntroToPython.ipynb#X41sZmlsZQ%3D%3D?line=0'>1</a>\u001b[0m o1\u001b[39m.\u001b[39;49mupper()\u001b[39m.\u001b[39;49mlower()\u001b[39m.\u001b[39;49msplit(\u001b[39m'\u001b[39;49m\u001b[39m \u001b[39;49m\u001b[39m'\u001b[39;49m)\u001b[39m.\u001b[39;49mupper()\n",
      "\u001b[1;31mAttributeError\u001b[0m: 'list' object has no attribute 'upper'"
     ]
    }
   ],
   "source": [
    "o1.upper().lower().split(' ').upper()"
   ]
  },
  {
   "cell_type": "code",
   "execution_count": 22,
   "metadata": {},
   "outputs": [
    {
     "data": {
      "text/plain": [
       "['__add__',\n",
       " '__class__',\n",
       " '__contains__',\n",
       " '__delattr__',\n",
       " '__dir__',\n",
       " '__doc__',\n",
       " '__eq__',\n",
       " '__format__',\n",
       " '__ge__',\n",
       " '__getattribute__',\n",
       " '__getitem__',\n",
       " '__getnewargs__',\n",
       " '__gt__',\n",
       " '__hash__',\n",
       " '__init__',\n",
       " '__init_subclass__',\n",
       " '__iter__',\n",
       " '__le__',\n",
       " '__len__',\n",
       " '__lt__',\n",
       " '__mod__',\n",
       " '__mul__',\n",
       " '__ne__',\n",
       " '__new__',\n",
       " '__reduce__',\n",
       " '__reduce_ex__',\n",
       " '__repr__',\n",
       " '__rmod__',\n",
       " '__rmul__',\n",
       " '__setattr__',\n",
       " '__sizeof__',\n",
       " '__str__',\n",
       " '__subclasshook__',\n",
       " 'capitalize',\n",
       " 'casefold',\n",
       " 'center',\n",
       " 'count',\n",
       " 'encode',\n",
       " 'endswith',\n",
       " 'expandtabs',\n",
       " 'find',\n",
       " 'format',\n",
       " 'format_map',\n",
       " 'index',\n",
       " 'isalnum',\n",
       " 'isalpha',\n",
       " 'isascii',\n",
       " 'isdecimal',\n",
       " 'isdigit',\n",
       " 'isidentifier',\n",
       " 'islower',\n",
       " 'isnumeric',\n",
       " 'isprintable',\n",
       " 'isspace',\n",
       " 'istitle',\n",
       " 'isupper',\n",
       " 'join',\n",
       " 'ljust',\n",
       " 'lower',\n",
       " 'lstrip',\n",
       " 'maketrans',\n",
       " 'partition',\n",
       " 'removeprefix',\n",
       " 'removesuffix',\n",
       " 'replace',\n",
       " 'rfind',\n",
       " 'rindex',\n",
       " 'rjust',\n",
       " 'rpartition',\n",
       " 'rsplit',\n",
       " 'rstrip',\n",
       " 'split',\n",
       " 'splitlines',\n",
       " 'startswith',\n",
       " 'strip',\n",
       " 'swapcase',\n",
       " 'title',\n",
       " 'translate',\n",
       " 'upper',\n",
       " 'zfill']"
      ]
     },
     "execution_count": 22,
     "metadata": {},
     "output_type": "execute_result"
    }
   ],
   "source": [
    "dir(o1)"
   ]
  },
  {
   "cell_type": "markdown",
   "metadata": {},
   "source": [
    "`Functions` == Callable `()` objects "
   ]
  },
  {
   "cell_type": "code",
   "execution_count": 45,
   "metadata": {},
   "outputs": [
    {
     "data": {
      "text/plain": [
       "builtin_function_or_method"
      ]
     },
     "execution_count": 45,
     "metadata": {},
     "output_type": "execute_result"
    }
   ],
   "source": [
    "type(print)"
   ]
  },
  {
   "cell_type": "code",
   "execution_count": null,
   "metadata": {},
   "outputs": [],
   "source": []
  },
  {
   "cell_type": "code",
   "execution_count": 31,
   "metadata": {},
   "outputs": [
    {
     "data": {
      "text/plain": [
       "'good202'"
      ]
     },
     "execution_count": 31,
     "metadata": {},
     "output_type": "execute_result"
    }
   ],
   "source": [
    "def add_to_num(orig_number,how_much_to_add):\n",
    "    return orig_number + how_much_to_add\n",
    "\n",
    "add_to_num(orig_number = \"good\", how_much_to_add = \"202\")"
   ]
  },
  {
   "cell_type": "markdown",
   "metadata": {},
   "source": [
    "`None` object"
   ]
  },
  {
   "cell_type": "code",
   "execution_count": 27,
   "metadata": {},
   "outputs": [
    {
     "data": {
      "text/plain": [
       "NoneType"
      ]
     },
     "execution_count": 27,
     "metadata": {},
     "output_type": "execute_result"
    }
   ],
   "source": [
    "o7 = None\n",
    "type(o7)"
   ]
  },
  {
   "cell_type": "code",
   "execution_count": 28,
   "metadata": {},
   "outputs": [
    {
     "name": "stdout",
     "output_type": "stream",
     "text": [
      "\n"
     ]
    },
    {
     "data": {
      "text/plain": [
       "NoneType"
      ]
     },
     "execution_count": 28,
     "metadata": {},
     "output_type": "execute_result"
    }
   ],
   "source": [
    "type(print())"
   ]
  },
  {
   "cell_type": "markdown",
   "metadata": {},
   "source": [
    "\n",
    "## Line structure\n",
    "\n",
    "* Basically most loved/hated? feature of Python\n",
    "* Line breaks and identations are a part of the syntax!\n",
    "* It is used to separate content of functions, classes, loops, conditions, etc.\n",
    "\n",
    "\n",
    "### Identations\n",
    "* both `space` and `tab` are accepted -- check how your editor works!\n",
    "* to keep things simple ALWAYS ident with `tab` (translated to spaces by editor)!\n",
    "* Typically 1 indent is 4 spaces\n",
    "ALWAYS PRECEEDED BY \"`:`\"\n",
    "\n",
    "```\n",
    "for i in range(10):\n",
    "    print(i)\n",
    "```\n",
    "\n",
    "```\n",
    "if i == 0:\n",
    "    print('i is zero')\n",
    "else:\n",
    "    print('i is not zero')\n",
    "```\n",
    "\n",
    "If you still need to break a line, without triggering code changes use line joins:\n",
    "\n",
    "### Explicit line joins\n",
    "```\n",
    "if 1900 < year < 2100 and 1 <= month <= 12 \\\n",
    "   and 1 <= day <= 31 and 0 <= hour < 24 \\\n",
    "   and 0 <= minute < 60 and 0 <= second < 60:\n",
    "   pass\n",
    "```\n",
    "\n",
    "### Implicit line joins\n",
    "Expressions in parentheses `()`, square brackets `[]` or curly braces `{}` can be split over more than one physical line without using backslashes. For example:\n",
    "\n",
    "```\n",
    "month_names = ['January', 'February', 'March',      \n",
    "               'April',   'May',      'June',       \n",
    "               'July',    'August', 'September',  \n",
    "               'October', 'November', 'December']\n",
    "\n",
    "```\n",
    "## Keywords and built-in functions\n",
    "Do not use as a variable name!"
   ]
  },
  {
   "cell_type": "code",
   "execution_count": 32,
   "metadata": {},
   "outputs": [
    {
     "name": "stdout",
     "output_type": "stream",
     "text": [
      "['False', 'None', 'True', 'and', 'as', 'assert', 'async', 'await', 'break', 'class', 'continue', 'def', 'del', 'elif', 'else', 'except', 'finally', 'for', 'from', 'global', 'if', 'import', 'in', 'is', 'lambda', 'nonlocal', 'not', 'or', 'pass', 'raise', 'return', 'try', 'while', 'with', 'yield'] \n",
      "\n",
      " ['ArithmeticError', 'AssertionError', 'AttributeError', 'BaseException', 'BlockingIOError', 'BrokenPipeError', 'BufferError', 'BytesWarning', 'ChildProcessError', 'ConnectionAbortedError', 'ConnectionError', 'ConnectionRefusedError', 'ConnectionResetError', 'DeprecationWarning', 'EOFError', 'Ellipsis', 'EncodingWarning', 'EnvironmentError', 'Exception', 'False', 'FileExistsError', 'FileNotFoundError', 'FloatingPointError', 'FutureWarning', 'GeneratorExit', 'IOError', 'ImportError', 'ImportWarning', 'IndentationError', 'IndexError', 'InterruptedError', 'IsADirectoryError', 'KeyError', 'KeyboardInterrupt', 'LookupError', 'MemoryError', 'ModuleNotFoundError', 'NameError', 'None', 'NotADirectoryError', 'NotImplemented', 'NotImplementedError', 'OSError', 'OverflowError', 'PendingDeprecationWarning', 'PermissionError', 'ProcessLookupError', 'RecursionError', 'ReferenceError', 'ResourceWarning', 'RuntimeError', 'RuntimeWarning', 'StopAsyncIteration', 'StopIteration', 'SyntaxError', 'SyntaxWarning', 'SystemError', 'SystemExit', 'TabError', 'TimeoutError', 'True', 'TypeError', 'UnboundLocalError', 'UnicodeDecodeError', 'UnicodeEncodeError', 'UnicodeError', 'UnicodeTranslateError', 'UnicodeWarning', 'UserWarning', 'ValueError', 'Warning', 'WindowsError', 'ZeroDivisionError', '__IPYTHON__', '__build_class__', '__debug__', '__doc__', '__import__', '__loader__', '__name__', '__package__', '__spec__', 'abs', 'aiter', 'all', 'anext', 'any', 'ascii', 'bin', 'bool', 'breakpoint', 'bytearray', 'bytes', 'callable', 'chr', 'classmethod', 'compile', 'complex', 'copyright', 'credits', 'delattr', 'dict', 'dir', 'display', 'divmod', 'enumerate', 'eval', 'exec', 'execfile', 'filter', 'float', 'format', 'frozenset', 'get_ipython', 'getattr', 'globals', 'hasattr', 'hash', 'help', 'hex', 'id', 'input', 'int', 'isinstance', 'issubclass', 'iter', 'len', 'license', 'list', 'locals', 'map', 'max', 'memoryview', 'min', 'next', 'object', 'oct', 'open', 'ord', 'pow', 'print', 'property', 'range', 'repr', 'reversed', 'round', 'runfile', 'set', 'setattr', 'slice', 'sorted', 'staticmethod', 'str', 'sum', 'super', 'tuple', 'type', 'vars', 'zip']\n"
     ]
    }
   ],
   "source": [
    "import keyword\n",
    "print(f\"{keyword.kwlist} \\n\\n {dir(__builtins__)}\")\n"
   ]
  },
  {
   "cell_type": "code",
   "execution_count": 34,
   "metadata": {},
   "outputs": [
    {
     "ename": "SyntaxError",
     "evalue": "invalid syntax (823646212.py, line 1)",
     "output_type": "error",
     "traceback": [
      "\u001b[1;36m  Cell \u001b[1;32mIn [34], line 1\u001b[1;36m\u001b[0m\n\u001b[1;33m    def = 4\u001b[0m\n\u001b[1;37m        ^\u001b[0m\n\u001b[1;31mSyntaxError\u001b[0m\u001b[1;31m:\u001b[0m invalid syntax\n"
     ]
    }
   ],
   "source": [
    "yield = 4"
   ]
  },
  {
   "cell_type": "markdown",
   "metadata": {},
   "source": [
    "# Built-in Data Types and Data structures\n",
    "\n",
    "## Why needed?\n",
    "\n",
    "* To process data by a program\n",
    "* Represent information (some memory) in some structure\n",
    "* Each structure has pros and cons about how it works -> choose the most appropriate\n",
    "* Save data structures to variables and work with those\n",
    "\n",
    "## Numerical\n",
    "\n",
    "Python differentiates 4 built-in numerical types: Integers, Floats, Longs and Complex\n",
    "\n",
    "We will only consider Integers and Floats as you will most likely only need these two."
   ]
  },
  {
   "cell_type": "code",
   "execution_count": 35,
   "metadata": {},
   "outputs": [
    {
     "name": "stdout",
     "output_type": "stream",
     "text": [
      "Integer:  4 <class 'int'>\n",
      "Float:  4.0 <class 'float'>\n",
      "True\n"
     ]
    }
   ],
   "source": [
    "integer = 4\n",
    "print('Integer: ',integer, type(integer))\n",
    "floatn = 4.\n",
    "print('Float: ',floatn,type(floatn))\n",
    "\n",
    "print(integer == floatn)"
   ]
  },
  {
   "cell_type": "markdown",
   "metadata": {},
   "source": [
    "*Q: What if floats and integers are combined?*\n",
    "\n",
    "** [FPA:](https://docs.python.org/3/tutorial/floatingpoint.html) Just remember, even though the printed result looks like the exact value of 1/10, the actual stored value is the nearest representable binary fraction. **\n"
   ]
  },
  {
   "cell_type": "code",
   "execution_count": 36,
   "metadata": {},
   "outputs": [
    {
     "data": {
      "text/plain": [
       "3.3200000000000003"
      ]
     },
     "execution_count": 36,
     "metadata": {},
     "output_type": "execute_result"
    }
   ],
   "source": [
    "1.32+2"
   ]
  },
  {
   "cell_type": "markdown",
   "metadata": {},
   "source": [
    "### Python standard operators\n",
    "\n",
    "* `+` \n",
    "* `-` \n",
    "* `*`\n",
    "* `/`\n",
    "\n",
    "but also:\n",
    "\n",
    "* `**` (exponent)\n",
    "* `%`  (modulus)\n",
    "* `//` (floor division)"
   ]
  },
  {
   "cell_type": "markdown",
   "metadata": {},
   "source": [
    "\n",
    "## Binary variables - boolean\n",
    "\n",
    "`False` ... `0`\n",
    "\n",
    "`True` ... `1`\n",
    "\n",
    "\n",
    "Beware of implicit type casting!"
   ]
  },
  {
   "cell_type": "code",
   "execution_count": 37,
   "metadata": {},
   "outputs": [
    {
     "name": "stdout",
     "output_type": "stream",
     "text": [
      "True\n"
     ]
    }
   ],
   "source": [
    "b = True\n",
    "#print(b) \n",
    "print(not b -1)\n"
   ]
  },
  {
   "cell_type": "code",
   "execution_count": 38,
   "metadata": {},
   "outputs": [
    {
     "name": "stdout",
     "output_type": "stream",
     "text": [
      "not ok\n",
      "this line\n"
     ]
    }
   ],
   "source": [
    "if 0:\n",
    "    print('ok')\n",
    "elif False:\n",
    "    print('also ok')\n",
    "elif True:\n",
    "    print('not ok')\n",
    "\n",
    "    \n",
    "print('this line')"
   ]
  },
  {
   "cell_type": "code",
   "execution_count": 39,
   "metadata": {},
   "outputs": [
    {
     "name": "stdout",
     "output_type": "stream",
     "text": [
      "I can tell the truth more times: 2 times to be precise\n"
     ]
    }
   ],
   "source": [
    "print(f'I can tell the truth more times: {True + True} times to be precise')"
   ]
  },
  {
   "cell_type": "code",
   "execution_count": 40,
   "metadata": {},
   "outputs": [
    {
     "name": "stdout",
     "output_type": "stream",
     "text": [
      "We are really ok here\n"
     ]
    }
   ],
   "source": [
    "a = 'ok'\n",
    "\n",
    "#evaluate this conditions\n",
    "if a == 'ok':\n",
    "    print('We are really ok here')\n",
    "else:\n",
    "    print('not ok')"
   ]
  },
  {
   "cell_type": "markdown",
   "metadata": {},
   "source": [
    "# Iterables\n",
    "\n",
    "* All of them can be iterated over (technically objects with implemented `__iter__()` and `__next__()` functions) - you can make your own iterables, with custom iteration logic!\n",
    "\n",
    "## List (of `objects`)"
   ]
  },
  {
   "cell_type": "code",
   "execution_count": null,
   "metadata": {},
   "outputs": [],
   "source": [
    "l1 = [1,2,3,4,5]\n",
    "l2 = ['Hello','World']\n",
    "l3 = ['Combination',2,'Data types']\n",
    "l4 = [print,list]"
   ]
  },
  {
   "cell_type": "markdown",
   "metadata": {},
   "source": [
    "## Strings"
   ]
  },
  {
   "cell_type": "code",
   "execution_count": 3,
   "metadata": {},
   "outputs": [
    {
     "name": "stdout",
     "output_type": "stream",
     "text": [
      "I do not have a value\n",
      "I have myself and I print some value This is a text variable\n"
     ]
    }
   ],
   "source": [
    "txt_var = 'This is a text variable'\n",
    "#f-string notation - string interpolation\n",
    "\n",
    "print(f\"I do not have a value\") #actually faster initialization\n",
    "print(f\"I have myself and I print some value {txt_var}\")"
   ]
  },
  {
   "cell_type": "code",
   "execution_count": 36,
   "metadata": {},
   "outputs": [
    {
     "data": {
      "text/plain": [
       "'IES FSV UK'"
      ]
     },
     "execution_count": 36,
     "metadata": {},
     "output_type": "execute_result"
    }
   ],
   "source": [
    "'   IES FSV UK    '.strip() #remove white spaces\n"
   ]
  },
  {
   "cell_type": "code",
   "execution_count": 58,
   "metadata": {},
   "outputs": [
    {
     "data": {
      "text/plain": [
       "'***IES*FSV*UK****'"
      ]
     },
     "execution_count": 58,
     "metadata": {},
     "output_type": "execute_result"
    }
   ],
   "source": [
    "#or replace spaces - good idea?\n",
    "'   IES FSV UK    '.replace(\" \",\"*\") #remove white spaces"
   ]
  },
  {
   "cell_type": "code",
   "execution_count": 8,
   "metadata": {},
   "outputs": [
    {
     "name": "stdout",
     "output_type": "stream",
     "text": [
      "😊\n"
     ]
    }
   ],
   "source": [
    "#Python support emojies, beucase it is unicode 8 encoded\n",
    "\n",
    "# How cool is that? You can put emojies to your applications\n",
    "# add +1 to see the next emoji in line\n",
    "a = chr(128521) #python can do the encoding for me \n",
    "print(a)"
   ]
  },
  {
   "cell_type": "markdown",
   "metadata": {},
   "source": [
    "# Where to put data - in containers\n",
    "# List - array"
   ]
  },
  {
   "cell_type": "markdown",
   "metadata": {},
   "source": [
    "# Sequences\n",
    "\n"
   ]
  },
  {
   "cell_type": "code",
   "execution_count": 67,
   "metadata": {},
   "outputs": [
    {
     "name": "stdout",
     "output_type": "stream",
     "text": [
      "<class 'list'>\n",
      "['red', 'blue', 'green', 'black', 'white'] - ['a', 'b', 'c', 'd', 'e']\n"
     ]
    }
   ],
   "source": [
    "colors = ['red', 'blue', 'green', 'black', 'white']\n",
    "print(type(colors))\n",
    "# but beware\n",
    "tmp = list('abcde')\n",
    "print(f\"{colors} - {tmp}\")"
   ]
  },
  {
   "cell_type": "code",
   "execution_count": 76,
   "metadata": {},
   "outputs": [],
   "source": [
    "tmp.append(False)"
   ]
  },
  {
   "cell_type": "code",
   "execution_count": 77,
   "metadata": {},
   "outputs": [
    {
     "data": {
      "text/plain": [
       "['a', 'b', 'c', 'd', 'e', ['z'], ['z'], 412421, 1, False]"
      ]
     },
     "execution_count": 77,
     "metadata": {},
     "output_type": "execute_result"
    }
   ],
   "source": [
    "tmp"
   ]
  },
  {
   "cell_type": "markdown",
   "metadata": {},
   "source": [
    "### God bless `list comprehension`"
   ]
  },
  {
   "cell_type": "code",
   "execution_count": 11,
   "metadata": {},
   "outputs": [
    {
     "data": {
      "text/plain": [
       "[1, 4, 9, 16, 25]"
      ]
     },
     "execution_count": 11,
     "metadata": {},
     "output_type": "execute_result"
    }
   ],
   "source": [
    "l = [1,2,3,4,5]\n",
    "new_l = []\n",
    "for el in l:\n",
    "     new_l.append(el**2)\n",
    "new_l"
   ]
  },
  {
   "cell_type": "code",
   "execution_count": 12,
   "metadata": {},
   "outputs": [
    {
     "data": {
      "text/plain": [
       "[1, 4, 9, 16, 25]"
      ]
     },
     "execution_count": 12,
     "metadata": {},
     "output_type": "execute_result"
    }
   ],
   "source": [
    "[el**2 for el in l]"
   ]
  },
  {
   "cell_type": "markdown",
   "metadata": {},
   "source": [
    "## 0-index\n",
    "* Unlike R which is 1-indexed\n",
    "* first element `l[0]` \n",
    "* last element `l[len(l)-1]` or `l[-1]`"
   ]
  },
  {
   "cell_type": "code",
   "execution_count": 78,
   "metadata": {},
   "outputs": [
    {
     "data": {
      "text/plain": [
       "10"
      ]
     },
     "execution_count": 78,
     "metadata": {},
     "output_type": "execute_result"
    }
   ],
   "source": [
    "len(tmp)"
   ]
  },
  {
   "cell_type": "code",
   "execution_count": 82,
   "metadata": {},
   "outputs": [
    {
     "ename": "IndexError",
     "evalue": "list index out of range",
     "output_type": "error",
     "traceback": [
      "\u001b[0;31m---------------------------------------------------------------------------\u001b[0m",
      "\u001b[0;31mIndexError\u001b[0m                                Traceback (most recent call last)",
      "\u001b[0;32m<ipython-input-82-8f66a1a4f956>\u001b[0m in \u001b[0;36m<module>\u001b[0;34m\u001b[0m\n\u001b[0;32m----> 1\u001b[0;31m \u001b[0mtmp\u001b[0m\u001b[0;34m[\u001b[0m\u001b[0;36m10\u001b[0m\u001b[0;34m]\u001b[0m\u001b[0;34m\u001b[0m\u001b[0;34m\u001b[0m\u001b[0m\n\u001b[0m",
      "\u001b[0;31mIndexError\u001b[0m: list index out of range"
     ]
    }
   ],
   "source": [
    "tmp[10]"
   ]
  },
  {
   "cell_type": "code",
   "execution_count": 83,
   "metadata": {},
   "outputs": [
    {
     "name": "stdout",
     "output_type": "stream",
     "text": [
      "blue\n"
     ]
    }
   ],
   "source": [
    "print(colors[1])"
   ]
  },
  {
   "cell_type": "code",
   "execution_count": 86,
   "metadata": {},
   "outputs": [
    {
     "name": "stdout",
     "output_type": "stream",
     "text": [
      "red\n",
      "blue\n",
      "green\n",
      "black\n",
      "white\n"
     ]
    }
   ],
   "source": [
    "#iterables\n",
    "\n",
    "for col in colors:\n",
    "    print(col)"
   ]
  },
  {
   "cell_type": "code",
   "execution_count": 88,
   "metadata": {},
   "outputs": [
    {
     "name": "stdout",
     "output_type": "stream",
     "text": [
      "['red', 'blue', 'green', 'black', 'white']\n",
      "green white black\n",
      "['green', 'black', 'white']\n",
      "['black', 'white']\n"
     ]
    }
   ],
   "source": [
    "# subset\n",
    "print(colors)\n",
    "\n",
    "print(f\"{colors[2]} {colors[-1]} {colors[-2]}\")\n",
    "print(colors[2:])\n",
    "print(colors[-2:])"
   ]
  },
  {
   "cell_type": "code",
   "execution_count": 89,
   "metadata": {},
   "outputs": [
    {
     "name": "stdout",
     "output_type": "stream",
     "text": [
      "['red', 'green', 'white']\n"
     ]
    }
   ],
   "source": [
    "# colors[start:stop:stride] full signature of the index subscription\n",
    "\n",
    "\n",
    "# all slicing values are optional!\n",
    "print(colors[::2]) #take every second elememt "
   ]
  },
  {
   "cell_type": "code",
   "execution_count": 90,
   "metadata": {},
   "outputs": [
    {
     "name": "stdout",
     "output_type": "stream",
     "text": [
      "[3, -200, 'hello']\n"
     ]
    }
   ],
   "source": [
    "#lists can contain any types - everything else works the same - dynamically typed langauge()\n",
    "colors = [3, -200, 'hello']\n",
    "print(colors)"
   ]
  },
  {
   "cell_type": "code",
   "execution_count": 91,
   "metadata": {},
   "outputs": [
    {
     "name": "stdout",
     "output_type": "stream",
     "text": [
      "[3, -200, 'hello', 'yellow', 'pink', 'purple', 'black']\n"
     ]
    }
   ],
   "source": [
    "# adding to a list \n",
    "# Beware inplace operation (TRY TO RUN SEVERAL TIMES)\n",
    "colors.append('yellow') \n",
    "colors.extend(['pink', 'purple']) # extend colors, in-place\n",
    "\n",
    "colors += ['black'] # colors = colors + ['black']\n",
    "\n",
    "print(colors)"
   ]
  },
  {
   "cell_type": "markdown",
   "metadata": {},
   "source": [
    "# Dictionaries\n",
    "\n",
    "## key-value store"
   ]
  },
  {
   "cell_type": "code",
   "execution_count": 37,
   "metadata": {},
   "outputs": [
    {
     "name": "stdout",
     "output_type": "stream",
     "text": [
      "{'emmanuelle': 5752, 'sebastian': 5578}\n"
     ]
    }
   ],
   "source": [
    "#in variable tel store key-value pairs. \n",
    "empty_dict = {}\n",
    "#important fro API calls \n",
    "tel = {'emmanuelle': 5752, 'sebastian': 5578}\n",
    "print(tel)"
   ]
  },
  {
   "cell_type": "code",
   "execution_count": 38,
   "metadata": {},
   "outputs": [
    {
     "name": "stdout",
     "output_type": "stream",
     "text": [
      "{'emmanuelle': 5752, 'sebastian': 5578, 'francis': 5915}\n",
      "5578\n",
      "dict_keys(['emmanuelle', 'sebastian', 'francis'])\n",
      "dict_values([5752, 5578, 5915])\n"
     ]
    },
    {
     "data": {
      "text/plain": [
       "True"
      ]
     },
     "execution_count": 38,
     "metadata": {},
     "output_type": "execute_result"
    }
   ],
   "source": [
    "#assign new value\n",
    "tel['francis'] = 5915\n",
    "print(tel)\n",
    "#get value by its key\n",
    "print(tel['sebastian'])\n",
    "\n",
    "print(tel.keys())\n",
    "\n",
    "print(tel.values())\n",
    "\n",
    "'francis' in tel\n"
   ]
  },
  {
   "cell_type": "code",
   "execution_count": 39,
   "metadata": {},
   "outputs": [
    {
     "ename": "KeyError",
     "evalue": "'Honza'",
     "output_type": "error",
     "traceback": [
      "\u001b[0;31m---------------------------------------------------------------------------\u001b[0m",
      "\u001b[0;31mKeyError\u001b[0m                                  Traceback (most recent call last)",
      "\u001b[0;32m<ipython-input-39-0d5c6ae5800f>\u001b[0m in \u001b[0;36m<module>\u001b[0;34m\u001b[0m\n\u001b[0;32m----> 1\u001b[0;31m \u001b[0mtel\u001b[0m\u001b[0;34m[\u001b[0m\u001b[0;34m'Honza'\u001b[0m\u001b[0;34m]\u001b[0m\u001b[0;34m\u001b[0m\u001b[0;34m\u001b[0m\u001b[0m\n\u001b[0m",
      "\u001b[0;31mKeyError\u001b[0m: 'Honza'"
     ]
    }
   ],
   "source": [
    "tel['Honza']"
   ]
  },
  {
   "cell_type": "code",
   "execution_count": 101,
   "metadata": {},
   "outputs": [
    {
     "name": "stdout",
     "output_type": "stream",
     "text": [
      "None\n",
      "do not have this\n"
     ]
    }
   ],
   "source": [
    "#get a value with a default, no KeyError!\n",
    "print(f\"{tel.get('Honza')}\") #returns None instead of the error\n",
    "print(f\"{tel.get('Honza', 'do not have this')}\")"
   ]
  },
  {
   "cell_type": "code",
   "execution_count": 121,
   "metadata": {},
   "outputs": [
    {
     "name": "stdout",
     "output_type": "stream",
     "text": [
      "under key emmanuelle is value 5752\n",
      "under key sebastian is value 5578\n",
      "under key francis is value 5915\n"
     ]
    }
   ],
   "source": [
    "for key, value in tel.items():\n",
    "    print(f\"under key {key} is value {value}\")"
   ]
  },
  {
   "cell_type": "markdown",
   "metadata": {},
   "source": [
    "## tuples - immutable containers = cannot overwrite them"
   ]
  },
  {
   "cell_type": "code",
   "execution_count": 104,
   "metadata": {},
   "outputs": [
    {
     "name": "stdout",
     "output_type": "stream",
     "text": [
      "['a', 'b', 'c', 'd'] ('a', 'b', 'c', 'd') (50.082, 14.431)\n"
     ]
    }
   ],
   "source": [
    "l = list('abcd')\n",
    "t = tuple(l) # or declare as ('a', 'b', 'c', 'd')\n",
    "coord = (50.082,14.431)\n",
    "print(l, t, coord )"
   ]
  },
  {
   "cell_type": "code",
   "execution_count": 107,
   "metadata": {},
   "outputs": [],
   "source": [
    "#Tuples are immutable; you can't change which variables they contain after construction. \n",
    "#However, you can concatenate or slice them to form new tuples:\n",
    "\n",
    "#t[0] = 1\n",
    "\n",
    "a = (1, 2, 3)\n",
    "b = a + (4, 5, 6)  # (1, 2, 3, 4, 5, 6)\n",
    "c = b[1:]  # (2, 3, 4, 5, 6)\n",
    "\n"
   ]
  },
  {
   "cell_type": "code",
   "execution_count": 108,
   "metadata": {},
   "outputs": [
    {
     "name": "stdout",
     "output_type": "stream",
     "text": [
      "(1, 2, 3, 4, 5, 6)\n",
      "(2, 3, 4, 5, 6)\n"
     ]
    }
   ],
   "source": [
    "print(b);print(c)"
   ]
  },
  {
   "cell_type": "code",
   "execution_count": 132,
   "metadata": {},
   "outputs": [
    {
     "name": "stdout",
     "output_type": "stream",
     "text": [
      "('thisValue',)\n"
     ]
    }
   ],
   "source": [
    "#single element tuples - for example database calls later on - psycopg2 library\n",
    "\n",
    "sql_query_parameter = ('thisValue',) #notice the comma, other\n",
    "print(sql_query_parameter)"
   ]
  },
  {
   "cell_type": "code",
   "execution_count": 134,
   "metadata": {},
   "outputs": [
    {
     "ename": "TypeError",
     "evalue": "'int' object does not support item assignment",
     "output_type": "error",
     "traceback": [
      "\u001b[0;31m---------------------------------------------------------------------------\u001b[0m",
      "\u001b[0;31mTypeError\u001b[0m                                 Traceback (most recent call last)",
      "\u001b[0;32m<ipython-input-134-60a217cc6472>\u001b[0m in \u001b[0;36m<module>\u001b[0;34m\u001b[0m\n\u001b[1;32m      1\u001b[0m \u001b[0ml\u001b[0m\u001b[0;34m[\u001b[0m\u001b[0;36m0\u001b[0m\u001b[0;34m]\u001b[0m\u001b[0;34m=\u001b[0m\u001b[0;34m'z'\u001b[0m\u001b[0;34m\u001b[0m\u001b[0;34m\u001b[0m\u001b[0m\n\u001b[0;32m----> 2\u001b[0;31m \u001b[0mt\u001b[0m\u001b[0;34m[\u001b[0m\u001b[0;36m0\u001b[0m\u001b[0;34m]\u001b[0m\u001b[0;34m=\u001b[0m\u001b[0;34m'z'\u001b[0m\u001b[0;34m\u001b[0m\u001b[0;34m\u001b[0m\u001b[0m\n\u001b[0m\u001b[1;32m      3\u001b[0m \u001b[0;34m\u001b[0m\u001b[0m\n\u001b[1;32m      4\u001b[0m \u001b[0;31m#read carefully the Traceback log\u001b[0m\u001b[0;34m\u001b[0m\u001b[0;34m\u001b[0m\u001b[0;34m\u001b[0m\u001b[0m\n",
      "\u001b[0;31mTypeError\u001b[0m: 'int' object does not support item assignment"
     ]
    }
   ],
   "source": [
    "l[0]='z'\n",
    "t[0]='z'\n",
    "\n",
    "#read carefully the Traceback log"
   ]
  },
  {
   "cell_type": "markdown",
   "metadata": {},
   "source": [
    "## Comparisons"
   ]
  },
  {
   "cell_type": "code",
   "execution_count": 136,
   "metadata": {},
   "outputs": [
    {
     "name": "stdout",
     "output_type": "stream",
     "text": [
      "Obviously!\n"
     ]
    }
   ],
   "source": [
    "if 2**2 == 4:\n",
    "    print('Obviously!')\n",
    "    "
   ]
  },
  {
   "attachments": {
    "image.png": {
     "image/png": "[encoded data removed]"
    }
   },
   "cell_type": "markdown",
   "metadata": {},
   "source": [
    "## Assignments\n",
    "![image.png](attachment:image.png)"
   ]
  },
  {
   "cell_type": "code",
   "execution_count": 137,
   "metadata": {},
   "outputs": [
    {
     "name": "stdout",
     "output_type": "stream",
     "text": [
      "11\n"
     ]
    }
   ],
   "source": [
    "x = 5\n",
    "x+=6\n",
    "print(f'{x}')"
   ]
  },
  {
   "cell_type": "markdown",
   "metadata": {},
   "source": [
    "## Control flows\n",
    "\n",
    "### For loop"
   ]
  },
  {
   "cell_type": "code",
   "execution_count": null,
   "metadata": {},
   "outputs": [],
   "source": [
    "for i in range(4):\n",
    "    print(f\"Running iteration with index {i}\")"
   ]
  },
  {
   "cell_type": "code",
   "execution_count": null,
   "metadata": {},
   "outputs": [],
   "source": [
    "for word in ('cool', 'powerful', 'readable'):\n",
    "    print(f'Python is {word} ')"
   ]
  },
  {
   "cell_type": "code",
   "execution_count": null,
   "metadata": {},
   "outputs": [],
   "source": [
    "for idx, word in enumerate(('cool', 'powerful', 'readable')):\n",
    "    print(f'Python is {word} - run {idx}')"
   ]
  },
  {
   "cell_type": "markdown",
   "metadata": {},
   "source": [
    "### If statement\n",
    "\n",
    "A code block is executed if and only if the conditioan statement evaluates as True"
   ]
  },
  {
   "cell_type": "markdown",
   "metadata": {},
   "source": [
    "```Evaluates to False:\n",
    "    any number equal to zero (0, 0.0, 0+0j)\n",
    "    an empty container (list, tuple, set, dictionary, …)\n",
    "    False, \n",
    "    None (check this rather as if somevar is not None: (PEP 8)\n",
    "Evaluates to True:\n",
    "    everything else```"
   ]
  },
  {
   "cell_type": "code",
   "execution_count": 111,
   "metadata": {},
   "outputs": [
    {
     "name": "stdout",
     "output_type": "stream",
     "text": [
      "empty array\n",
      "got b\n"
     ]
    }
   ],
   "source": [
    "a = []\n",
    "b = [1,2,3]\n",
    "\n",
    "if a:\n",
    "    print('got a')\n",
    "else:\n",
    "    print('empty array')\n",
    "if b:\n",
    "    print('got b')"
   ]
  },
  {
   "cell_type": "code",
   "execution_count": null,
   "metadata": {},
   "outputs": [],
   "source": []
  },
  {
   "cell_type": "markdown",
   "metadata": {},
   "source": [
    "#  Functions\n",
    "\n",
    "*Q: What is a function?*\n",
    "\n",
    "* function as a basic lego-tile of programmes.\n",
    "\n",
    "* Most often it will `return something`. The better your code, the more useful `something` is.\n",
    "\n",
    "* in a good code all of the functionality is hidden in a various functions (and classes).\n",
    "\n",
    "* allows reproducibility - be a lazy programmer and write a lot of functions\n",
    "\n",
    "* tips of trades (keeps scope of variables which is very useful when working in interactive shells (Python or R)\n",
    "\n",
    "```\n",
    "def functionName(input1,input2):\n",
    "    do something ...\n",
    "    return result\n",
    "```\n",
    "\n",
    "* Hence, you can do the same thing for more inputs, do not have to copy paste code!\n",
    "\n",
    "\n",
    "* Is this a good [code design?](https://github.com/AceLewis/my_first_calculator.py/blob/master/my_first_calculator.py)"
   ]
  },
  {
   "cell_type": "markdown",
   "metadata": {},
   "source": [
    "### Function output vs. standard output"
   ]
  },
  {
   "cell_type": "code",
   "execution_count": 19,
   "metadata": {},
   "outputs": [
    {
     "name": "stdout",
     "output_type": "stream",
     "text": [
      "Hello world!\n"
     ]
    },
    {
     "data": {
      "text/plain": [
       "'H e l l o   w o r l d !'"
      ]
     },
     "execution_count": 19,
     "metadata": {},
     "output_type": "execute_result"
    }
   ],
   "source": [
    "# define function\n",
    "def hello_world():\n",
    "    hello = \"Hello world!\"\n",
    "    print(hello)\n",
    "    return ' '.join(hello)\n",
    "\n",
    "returned_value = hello_world()\n",
    "returned_value"
   ]
  },
  {
   "cell_type": "code",
   "execution_count": 21,
   "metadata": {},
   "outputs": [
    {
     "name": "stdout",
     "output_type": "stream",
     "text": [
      "The function above  returned value:\n",
      "H e l l o   w o r l d !\n"
     ]
    }
   ],
   "source": [
    "print(f\"The function above  returned value:\\n{returned_value}\")"
   ]
  },
  {
   "cell_type": "code",
   "execution_count": 23,
   "metadata": {},
   "outputs": [
    {
     "name": "stdout",
     "output_type": "stream",
     "text": [
      "Hello world!\n"
     ]
    },
    {
     "data": {
      "text/plain": [
       "'H e l l o   w o r l d !'"
      ]
     },
     "execution_count": 23,
     "metadata": {},
     "output_type": "execute_result"
    }
   ],
   "source": [
    "hello_world()"
   ]
  },
  {
   "cell_type": "code",
   "execution_count": 40,
   "metadata": {},
   "outputs": [],
   "source": [
    "# keyword def introduces a function - then name - then (arg1, arg2, arg3='can_have_default_value')\n",
    "def describe_employee(d):\n",
    "    '''\n",
    "    retrieves important information about the teacher from the input dictionary and return it as a string\n",
    "    \n",
    "    Input: dictionary with the name, role and age and courses keys\n",
    "    Output: String with information\n",
    "    '''\n",
    "    result = '{}, {}, is at least {} years old. '.format(d['name'],d['role'],d['age'])\n",
    "    \n",
    "    result += 'He teaches {} courses. '.format(len(d['courses']))\n",
    "    \n",
    "    if len(d['courses']) > 5:\n",
    "        result += 'Probably he is a teaching-superhero!'\n",
    "    return result"
   ]
  },
  {
   "cell_type": "code",
   "execution_count": 42,
   "metadata": {},
   "outputs": [
    {
     "name": "stdout",
     "output_type": "stream",
     "text": [
      "Martin Gregor, director of IES, is at least 18 years old. He teaches 2 courses. \n",
      "Jozef Baruník, econometric guru, is at least 15 years old. He teaches 7 courses. Probably he is a teaching-superhero!\n"
     ]
    }
   ],
   "source": [
    "list_of_dicts = [\n",
    "    {\n",
    "        'name':'Martin Gregor',\n",
    "        'role':'director of IES',\n",
    "        'age':18,\n",
    "        'courses':['JEM013','JEB064']\n",
    "    },\n",
    "    {\n",
    "        'name':'Jozef Baruník',\n",
    "         'role':'econometric guru',\n",
    "         'age':15,\n",
    "         'courses':['JEM005','JEM116','JED414','JED415','JED412','JEM059','JEM061']\n",
    "    }]\n",
    "\n",
    "for el in list_of_dicts:\n",
    "    info = describe_employee(el)\n",
    "    print(info)"
   ]
  },
  {
   "cell_type": "code",
   "execution_count": 44,
   "metadata": {},
   "outputs": [
    {
     "data": {
      "text/html": [
       "<div>\n",
       "<style scoped>\n",
       "    .dataframe tbody tr th:only-of-type {\n",
       "        vertical-align: middle;\n",
       "    }\n",
       "\n",
       "    .dataframe tbody tr th {\n",
       "        vertical-align: top;\n",
       "    }\n",
       "\n",
       "    .dataframe thead th {\n",
       "        text-align: right;\n",
       "    }\n",
       "</style>\n",
       "<table border=\"1\" class=\"dataframe\">\n",
       "  <thead>\n",
       "    <tr style=\"text-align: right;\">\n",
       "      <th></th>\n",
       "      <th>name</th>\n",
       "      <th>role</th>\n",
       "      <th>age</th>\n",
       "      <th>courses</th>\n",
       "    </tr>\n",
       "  </thead>\n",
       "  <tbody>\n",
       "    <tr>\n",
       "      <th>0</th>\n",
       "      <td>Martin Gregor</td>\n",
       "      <td>director of IES</td>\n",
       "      <td>18</td>\n",
       "      <td>[JEM013, JEB064]</td>\n",
       "    </tr>\n",
       "    <tr>\n",
       "      <th>1</th>\n",
       "      <td>Jozef Baruník</td>\n",
       "      <td>econometric guru</td>\n",
       "      <td>15</td>\n",
       "      <td>[JEM005, JEM116, JED414, JED415, JED412, JEM05...</td>\n",
       "    </tr>\n",
       "  </tbody>\n",
       "</table>\n",
       "</div>"
      ],
      "text/plain": [
       "            name              role  age  \\\n",
       "0  Martin Gregor   director of IES   18   \n",
       "1  Jozef Baruník  econometric guru   15   \n",
       "\n",
       "                                             courses  \n",
       "0                                   [JEM013, JEB064]  \n",
       "1  [JEM005, JEM116, JED414, JED415, JED412, JEM05...  "
      ]
     },
     "execution_count": 44,
     "metadata": {},
     "output_type": "execute_result"
    }
   ],
   "source": [
    "import pandas as pd\n",
    "pd.DataFrame(list_of_dicts)\n"
   ]
  },
  {
   "cell_type": "markdown",
   "metadata": {},
   "source": [
    "### How to write functions?\n",
    "\n",
    "* Function should do just one thing!\n",
    "* Use wrapping functions!\n",
    "\n",
    "#### Example\n",
    "We need to aggregate data and plot it.\n",
    "\n",
    "We will write three functions:\n",
    "\n",
    "```\n",
    "def aggregateData(param1,param2,data):\n",
    "    ... perform aggregation ...\n",
    "    return aggregData\n",
    "    \n",
    "def plotAggregatedData(aggregData,plotParam1,plotParam2):\n",
    "    ... perform plotting ...\n",
    "    return plot\n",
    "    \n",
    "def plotAndAggregateData(data,param1,param2,plotParam,plotParam2):\n",
    "    #aggregate data\n",
    "    aggregData = aggregateData(param1,param2,data)\n",
    "    \n",
    "    plot = plotAggregatedData(aggregData,plotParam1,plotParam2)\n",
    "    return (plot,aggregData)\n",
    "```\n"
   ]
  },
  {
   "cell_type": "markdown",
   "metadata": {},
   "source": [
    "### Default parameter values"
   ]
  },
  {
   "cell_type": "code",
   "execution_count": null,
   "metadata": {},
   "outputs": [],
   "source": [
    "def foo(x=12):\n",
    "    return x\n",
    "\n",
    "print(foo())\n",
    "print(foo(10))"
   ]
  },
  {
   "cell_type": "markdown",
   "metadata": {},
   "source": [
    "If interested see *args or *kwargs - passing variables as list or dictionary"
   ]
  },
  {
   "cell_type": "code",
   "execution_count": 45,
   "metadata": {},
   "outputs": [
    {
     "name": "stdout",
     "output_type": "stream",
     "text": [
      "1\n",
      "2\n",
      "3\n",
      "4\n"
     ]
    }
   ],
   "source": [
    "def fee(*args):\n",
    "    #dont know how many arguments ther will be\n",
    "    for el in args:\n",
    "        print(el)\n",
    "\n",
    "fee(1,2,3,4)"
   ]
  },
  {
   "cell_type": "code",
   "execution_count": 142,
   "metadata": {},
   "outputs": [
    {
     "data": {
      "text/plain": [
       "'/Users/jansila/path/to/somewhere'"
      ]
     },
     "execution_count": 142,
     "metadata": {},
     "output_type": "execute_result"
    }
   ],
   "source": [
    "import os #import at first cell - sorry PEP8\n",
    "os.path.join('/Users','jansila','path','to','somewhere') #takes *args as well"
   ]
  },
  {
   "attachments": {
    "image.png": {
     "image/png": "[encoded data removed]"
    }
   },
   "cell_type": "markdown",
   "metadata": {},
   "source": [
    "# Important programming principles\n",
    "\n",
    "Program is a set of instructions combined with data.\n",
    "\n",
    "> *“Perfection is achieved, not when there is nothing more to add, but when there is nothing left to take away.”* (Antoine de Saint Exupery)\n",
    "> *“Simplicity is the ultimate sophistication”* (Leondardo da Vinci)\n",
    "\n",
    "1. Set naming standards and keep it - i.e. data object for teachers will be dictionary with keys 'name','age' and 'role'.\n",
    "3. Separate algorithmic logic from the data - functions should be *general*, yet targeted on specific purpose.\n",
    "4. Programmer is lazy\n",
    "5. Plan before you start! Be sure you know how you will proceed before actual coding\n",
    "6. Art of programming is essentialy an art of googling. Stack-Overflowing\n",
    "\n",
    "Your variables names as well as function names should really describe their content - do not use `var1`,`x`  etc. \n",
    "\n",
    "Names like `data` are OK when you have know you have only one source of data. But the more complex the program is, the more you need more explicit variable names\n",
    "\n",
    "\n",
    "## Scope of variables\n",
    "\n",
    "Is my variable visible outside of the function? \n",
    "\n",
    "![image.png](attachment:image.png)\n",
    "### Global variables"
   ]
  },
  {
   "cell_type": "code",
   "execution_count": 143,
   "metadata": {},
   "outputs": [
    {
     "data": {
      "text/plain": [
       "7"
      ]
     },
     "execution_count": 143,
     "metadata": {},
     "output_type": "execute_result"
    }
   ],
   "source": [
    "a = 5\n",
    "def doSomethingGlobal():\n",
    "    global a\n",
    "    a = a + 2\n",
    "doSomethingGlobal()\n",
    "a #a got changed in the scope of the function!"
   ]
  },
  {
   "cell_type": "markdown",
   "metadata": {},
   "source": [
    "Can you modify the value of a variable inside a function? Most languages (C, Java, …) distinguish “passing by value” and “passing by reference”. In Python, such a distinction is somewhat artificial, and it is a bit subtle whether your variables are going to be modified or not. Fortunately, there exist clear rules.\n",
    "Parameters to functions are references to objects, which are passed by value. When you pass a variable to a function, python passes the reference to the object to which the variable refers (the value). Not the variable itself."
   ]
  },
  {
   "cell_type": "markdown",
   "metadata": {},
   "source": [
    "### Local variables"
   ]
  },
  {
   "cell_type": "code",
   "execution_count": 144,
   "metadata": {},
   "outputs": [
    {
     "name": "stdout",
     "output_type": "stream",
     "text": [
      "7\n",
      "The a value is still 5\n"
     ]
    }
   ],
   "source": [
    "a = 5 \n",
    "\n",
    "def doSomethingLocal():\n",
    "    \n",
    "    \n",
    "    return a + 2\n",
    "print(doSomethingLocal())\n",
    "print(f\"The a value is still {a}\")"
   ]
  },
  {
   "cell_type": "markdown",
   "metadata": {},
   "source": [
    "### Many types are assigned as a reference!!!"
   ]
  },
  {
   "cell_type": "code",
   "execution_count": 146,
   "metadata": {},
   "outputs": [
    {
     "name": "stdout",
     "output_type": "stream",
     "text": [
      "['Horváth', 'Kukačka', 'Gregor']\n",
      "4441009536 4441009536\n"
     ]
    }
   ],
   "source": [
    "x = ['Horváth','Baruník','Gregor']\n",
    "y = x #we call this shallow copy\n",
    "\n",
    "y[1] = 'Kukačka' #y references x\n",
    "print(x)\n",
    "\n",
    "print(id(x), id(y)) #then point ot he same memory"
   ]
  },
  {
   "cell_type": "code",
   "execution_count": null,
   "metadata": {},
   "outputs": [],
   "source": [
    "x = ['Horváth','Baruník','Gregor']\n",
    "y = x.copy() #deep copy( create new memory )\n",
    "\n",
    "y[1] = 'Kukačka' #y references x\n",
    "print(x)\n",
    "print(id(x), id(y))"
   ]
  },
  {
   "cell_type": "markdown",
   "metadata": {},
   "source": [
    "## id(object)\n",
    "Return the “identity” of an object. This is an integer (or long integer) which is guaranteed to be unique and constant for this object during its lifetime. Two objects with non-overlapping lifetimes may have the same id() value.\n",
    "\n",
    "CPython implementation detail: This is the address of the object in memory."
   ]
  },
  {
   "cell_type": "markdown",
   "metadata": {},
   "source": [
    "# Error Handling"
   ]
  },
  {
   "cell_type": "markdown",
   "metadata": {},
   "source": [
    "* GOOGLE!!!!!\n",
    "* Computer is always right, it is you who did not understand the computer\n",
    "\n",
    "* If error produced, do not panic! Read it: **CAREFULLY**!\n",
    "\n",
    "* Worse problems when no errors, yet unexpected results - the mistake would be in wrong understanding of the logic => DEBUGGING!!!\n",
    "\n",
    "Most common errors:\n",
    "1. Incorrect identation (SyntaxError) - automatically corrected in Jupyter, but still do not do it!\n",
    "2. Incorrect values - the program expects different values (ValueError)\n",
    "3. Non-existing key in dictionary (KeyError)\n",
    "4. assignment operator `=` instead of `==` (SyntaxError)\n",
    "5. Variable not found (NameError) - remember Python is case-sensitive!\n",
    "6. Zero-indexing!!!! \n",
    "\n"
   ]
  },
  {
   "cell_type": "code",
   "execution_count": 46,
   "metadata": {},
   "outputs": [
    {
     "name": "stdout",
     "output_type": "stream",
     "text": [
      "1.0\n",
      "1.25\n",
      "1.6666666666666667\n",
      "2.5\n",
      "5.0\n"
     ]
    },
    {
     "ename": "ZeroDivisionError",
     "evalue": "division by zero",
     "output_type": "error",
     "traceback": [
      "\u001b[0;31m---------------------------------------------------------------------------\u001b[0m",
      "\u001b[0;31mZeroDivisionError\u001b[0m                         Traceback (most recent call last)",
      "\u001b[0;32m<ipython-input-46-3ba26d9ba93b>\u001b[0m in \u001b[0;36m<module>\u001b[0;34m\u001b[0m\n\u001b[1;32m      1\u001b[0m \u001b[0;32mfor\u001b[0m \u001b[0mi\u001b[0m \u001b[0;32min\u001b[0m \u001b[0mrange\u001b[0m\u001b[0;34m(\u001b[0m\u001b[0;36m5\u001b[0m\u001b[0;34m,\u001b[0m\u001b[0;34m-\u001b[0m\u001b[0;36m5\u001b[0m\u001b[0;34m,\u001b[0m\u001b[0;34m-\u001b[0m\u001b[0;36m1\u001b[0m\u001b[0;34m)\u001b[0m\u001b[0;34m:\u001b[0m\u001b[0;34m\u001b[0m\u001b[0;34m\u001b[0m\u001b[0m\n\u001b[0;32m----> 2\u001b[0;31m     \u001b[0mprint\u001b[0m\u001b[0;34m(\u001b[0m\u001b[0;36m5\u001b[0m\u001b[0;34m/\u001b[0m\u001b[0mi\u001b[0m\u001b[0;34m)\u001b[0m\u001b[0;34m\u001b[0m\u001b[0;34m\u001b[0m\u001b[0m\n\u001b[0m",
      "\u001b[0;31mZeroDivisionError\u001b[0m: division by zero"
     ]
    }
   ],
   "source": [
    "for i in range(5,-5,-1):\n",
    "    print(5/i)"
   ]
  },
  {
   "cell_type": "markdown",
   "metadata": {},
   "source": [
    "### Try and except"
   ]
  },
  {
   "cell_type": "code",
   "execution_count": 47,
   "metadata": {},
   "outputs": [
    {
     "name": "stdout",
     "output_type": "stream",
     "text": [
      "1.0\n",
      "1.25\n",
      "1.6666666666666667\n",
      "2.5\n",
      "5.0\n",
      "division by zero\n",
      "-5.0\n",
      "-2.5\n",
      "-1.6666666666666667\n",
      "-1.25\n",
      "-1.0\n"
     ]
    }
   ],
   "source": [
    "for i in range(5,-6,-1):\n",
    "    try:\n",
    "        print(5/i)\n",
    "    except Exception as e:\n",
    "        print(e)"
   ]
  },
  {
   "cell_type": "markdown",
   "metadata": {},
   "source": [
    "### Good luck with coding!"
   ]
  }
 ],
 "metadata": {
  "kernelspec": {
   "display_name": "Python 3.10.7 64-bit",
   "language": "python",
   "name": "python3"
  },
  "language_info": {
   "codemirror_mode": {
    "name": "ipython",
    "version": 3
   },
   "file_extension": ".py",
   "mimetype": "text/x-python",
   "name": "python",
   "nbconvert_exporter": "python",
   "pygments_lexer": "ipython3",
   "version": "3.10.7"
  },
  "vscode": {
   "interpreter": {
    "hash": "1f0e6d99f3103fd78365fe1cf7b2d51239fa0878786db9cbdfe89bc88a3151d3"
   }
  }
 },
 "nbformat": 4,
 "nbformat_minor": 4
}
